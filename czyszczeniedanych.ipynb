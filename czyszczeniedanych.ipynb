{
 "cells": [
  {
   "cell_type": "markdown",
   "metadata": {},
   "source": [
    "**Projekt PAD s18803**"
   ]
  },
  {
   "cell_type": "code",
   "execution_count": 60,
   "metadata": {},
   "outputs": [],
   "source": [
    "import pandas as pd\n",
    "import numpy as np\n",
    "\n",
    "messydata_df = pd.read_csv(\"messy_data.csv\", sep=\",\")"
   ]
  },
  {
   "cell_type": "code",
   "execution_count": 61,
   "metadata": {},
   "outputs": [
    {
     "data": {
      "text/html": [
       "<div>\n",
       "<style scoped>\n",
       "    .dataframe tbody tr th:only-of-type {\n",
       "        vertical-align: middle;\n",
       "    }\n",
       "\n",
       "    .dataframe tbody tr th {\n",
       "        vertical-align: top;\n",
       "    }\n",
       "\n",
       "    .dataframe thead th {\n",
       "        text-align: right;\n",
       "    }\n",
       "</style>\n",
       "<table border=\"1\" class=\"dataframe\">\n",
       "  <thead>\n",
       "    <tr style=\"text-align: right;\">\n",
       "      <th></th>\n",
       "      <th>carat</th>\n",
       "      <th>clarity</th>\n",
       "      <th>color</th>\n",
       "      <th>cut</th>\n",
       "      <th>x dimension</th>\n",
       "      <th>y dimension</th>\n",
       "      <th>z dimension</th>\n",
       "      <th>depth</th>\n",
       "      <th>table</th>\n",
       "      <th>price</th>\n",
       "    </tr>\n",
       "  </thead>\n",
       "  <tbody>\n",
       "    <tr>\n",
       "      <th>58</th>\n",
       "      <td>NaN</td>\n",
       "      <td>i1</td>\n",
       "      <td>H</td>\n",
       "      <td>good</td>\n",
       "      <td>5.9</td>\n",
       "      <td>5.88</td>\n",
       "      <td>3.63</td>\n",
       "      <td>62.4</td>\n",
       "      <td></td>\n",
       "      <td>2100</td>\n",
       "    </tr>\n",
       "    <tr>\n",
       "      <th>20</th>\n",
       "      <td>NaN</td>\n",
       "      <td>VVS1</td>\n",
       "      <td>f</td>\n",
       "      <td>Ideal</td>\n",
       "      <td>6.1</td>\n",
       "      <td>6.15</td>\n",
       "      <td>3.9</td>\n",
       "      <td>61.8</td>\n",
       "      <td>57</td>\n",
       "      <td>6000</td>\n",
       "    </tr>\n",
       "    <tr>\n",
       "      <th>160</th>\n",
       "      <td>1.1</td>\n",
       "      <td>VVS2</td>\n",
       "      <td>F</td>\n",
       "      <td>fair</td>\n",
       "      <td>6.8</td>\n",
       "      <td>6.79</td>\n",
       "      <td>4.21</td>\n",
       "      <td></td>\n",
       "      <td>57</td>\n",
       "      <td>9400</td>\n",
       "    </tr>\n",
       "    <tr>\n",
       "      <th>6</th>\n",
       "      <td>0.5</td>\n",
       "      <td>if</td>\n",
       "      <td>D</td>\n",
       "      <td>Ideal</td>\n",
       "      <td>5.1</td>\n",
       "      <td></td>\n",
       "      <td>3.2</td>\n",
       "      <td>61.5</td>\n",
       "      <td>57</td>\n",
       "      <td>3100</td>\n",
       "    </tr>\n",
       "    <tr>\n",
       "      <th>166</th>\n",
       "      <td>0.9</td>\n",
       "      <td>si2</td>\n",
       "      <td>G</td>\n",
       "      <td>Premium</td>\n",
       "      <td>6.3</td>\n",
       "      <td>6.31</td>\n",
       "      <td>3.90</td>\n",
       "      <td></td>\n",
       "      <td>58</td>\n",
       "      <td>6900</td>\n",
       "    </tr>\n",
       "  </tbody>\n",
       "</table>\n",
       "</div>"
      ],
      "text/plain": [
       "     carat  clarity  color       cut  x dimension  y dimension  z dimension  \\\n",
       "58     NaN       i1      H      good          5.9         5.88         3.63   \n",
       "20     NaN     VVS1      f     Ideal          6.1         6.15          3.9   \n",
       "160    1.1     VVS2      F      fair          6.8         6.79         4.21   \n",
       "6      0.5       if      D     Ideal          5.1                       3.2   \n",
       "166    0.9      si2      G   Premium          6.3         6.31         3.90   \n",
       "\n",
       "     depth  table  price  \n",
       "58    62.4          2100  \n",
       "20    61.8     57   6000  \n",
       "160            57   9400  \n",
       "6     61.5     57   3100  \n",
       "166            58   6900  "
      ]
     },
     "execution_count": 61,
     "metadata": {},
     "output_type": "execute_result"
    }
   ],
   "source": [
    "#sprawdzamy przykładowe dane\n",
    "messydata_df.sample(5)"
   ]
  },
  {
   "cell_type": "markdown",
   "metadata": {},
   "source": [
    "***1.d Braki w danych***"
   ]
  },
  {
   "cell_type": "code",
   "execution_count": 3,
   "metadata": {},
   "outputs": [],
   "source": [
    "#zamiana pustych wartości na NaN\n",
    "messydata_df = messydata_df.replace(r'^\\s*$', np.nan, regex=True)"
   ]
  },
  {
   "cell_type": "markdown",
   "metadata": {},
   "source": [
    "***1.f Usunięcie niepotrzebnych spacji z nazw kolumn i niektórych wartości***"
   ]
  },
  {
   "cell_type": "code",
   "execution_count": 4,
   "metadata": {},
   "outputs": [],
   "source": [
    "#usunięcie spacji z nazw kolumn (bo nie działa zmiana typu kolumn)\n",
    "messydata_df.rename(columns=lambda x: x.strip(), inplace=True)\n",
    "#usunięcie spacji z wartości w kolumnach, w których ma to znaczenie (bo bez tego nie działa ujednolicenie danych)\n",
    "messydata_df[\"clarity\"]=messydata_df[\"clarity\"].str.strip()\n",
    "messydata_df[\"color\"]=messydata_df[\"color\"].str.strip()\n",
    "messydata_df[\"cut\"]=messydata_df[\"cut\"].str.strip()"
   ]
  },
  {
   "cell_type": "markdown",
   "metadata": {},
   "source": [
    "***1.f Zmiana typu kolumn***"
   ]
  },
  {
   "cell_type": "code",
   "execution_count": 5,
   "metadata": {},
   "outputs": [],
   "source": [
    "## Zamiana typu kolumn\n",
    "messydata_df[\"clarity\"] = messydata_df[\"clarity\"].astype(\"category\")\n",
    "messydata_df[\"color\"] = messydata_df[\"color\"].astype(\"category\")\n",
    "messydata_df[\"cut\"] = messydata_df[\"cut\"].astype(\"category\")\n",
    "messydata_df[\"x dimension\"] = messydata_df[\"x dimension\"].astype(\"float64\")\n",
    "messydata_df[\"y dimension\"] = messydata_df[\"y dimension\"].astype(\"float64\")\n",
    "messydata_df[\"z dimension\"] = messydata_df[\"z dimension\"].astype(\"float64\")\n",
    "messydata_df[\"depth\"] = messydata_df[\"depth\"].astype(\"float64\")\n",
    "messydata_df[\"table\"] = messydata_df[\"table\"].astype(\"float64\")\n",
    "messydata_df[\"price\"] = messydata_df[\"price\"].astype(\"float64\")"
   ]
  },
  {
   "cell_type": "markdown",
   "metadata": {},
   "source": [
    "***1.f Zmiana nazw kolumn***"
   ]
  },
  {
   "cell_type": "code",
   "execution_count": 6,
   "metadata": {},
   "outputs": [],
   "source": [
    "#zmiana nazw kolumn, aby nie miały spacji (bo bez tego mam problem ze zrobieniem regresji)\n",
    "messydata_df.rename(columns={'x dimension': 'x_dimension', 'y dimension': 'y_dimension', 'z dimension': 'z_dimension'}, inplace=True)"
   ]
  },
  {
   "cell_type": "code",
   "execution_count": 7,
   "metadata": {},
   "outputs": [
    {
     "name": "stdout",
     "output_type": "stream",
     "text": [
      "<class 'pandas.core.frame.DataFrame'>\n",
      "RangeIndex: 200 entries, 0 to 199\n",
      "Data columns (total 10 columns):\n",
      " #   Column       Non-Null Count  Dtype   \n",
      "---  ------       --------------  -----   \n",
      " 0   carat        150 non-null    float64 \n",
      " 1   clarity      200 non-null    category\n",
      " 2   color        200 non-null    category\n",
      " 3   cut          200 non-null    category\n",
      " 4   x_dimension  197 non-null    float64 \n",
      " 5   y_dimension  136 non-null    float64 \n",
      " 6   z_dimension  152 non-null    float64 \n",
      " 7   depth        133 non-null    float64 \n",
      " 8   table        167 non-null    float64 \n",
      " 9   price        196 non-null    float64 \n",
      "dtypes: category(3), float64(7)\n",
      "memory usage: 13.3 KB\n"
     ]
    }
   ],
   "source": [
    "## Sprawdzenie typu kolumn\n",
    "messydata_df.info()"
   ]
  },
  {
   "cell_type": "markdown",
   "metadata": {},
   "source": [
    "***1.c Spójność***"
   ]
  },
  {
   "cell_type": "code",
   "execution_count": 8,
   "metadata": {},
   "outputs": [
    {
     "data": {
      "text/plain": [
       "clarity\n",
       "i1      26\n",
       "VVS1    23\n",
       "si2     23\n",
       "IF      20\n",
       "VVS2    19\n",
       "si1     18\n",
       "vvs2    18\n",
       "Si2     16\n",
       "Si1     12\n",
       "vvs1    11\n",
       "I1       5\n",
       "SI2      5\n",
       "if       3\n",
       "Vvs1     1\n",
       "Name: count, dtype: int64"
      ]
     },
     "execution_count": 8,
     "metadata": {},
     "output_type": "execute_result"
    }
   ],
   "source": [
    "#Unikalne wartości w kolumnie \"clarity\"\n",
    "messydata_df[\"clarity\"].value_counts()"
   ]
  },
  {
   "cell_type": "code",
   "execution_count": 9,
   "metadata": {},
   "outputs": [
    {
     "data": {
      "text/plain": [
       "clarity\n",
       "SI2     44\n",
       "VVS2    37\n",
       "VVS1    35\n",
       "I1      31\n",
       "SI1     30\n",
       "IF      23\n",
       "Name: count, dtype: int64"
      ]
     },
     "execution_count": 9,
     "metadata": {},
     "output_type": "execute_result"
    }
   ],
   "source": [
    "#Ujednolicenie danych w kolumnie \"clarity\"\n",
    "messydata_df[\"clarity\"].replace(\"i1\", \"I1\", inplace=True)\n",
    "messydata_df[\"clarity\"].replace([\"si2\", \"Si2\"], \"SI2\", inplace=True)\n",
    "messydata_df[\"clarity\"].replace([\"si1\", \"Si1\",\"sI1\"], \"SI1\", inplace=True)\n",
    "messydata_df[\"clarity\"].replace([\"if\"], \"IF\", inplace=True)\n",
    "messydata_df[\"clarity\"].replace([\"vvs1\",\"Vvs1\"], \"VVS1\", inplace=True)\n",
    "messydata_df[\"clarity\"].replace([\"vvs2\"], \"VVS2\", inplace=True)\n",
    "messydata_df[\"clarity\"].value_counts()"
   ]
  },
  {
   "cell_type": "code",
   "execution_count": 10,
   "metadata": {},
   "outputs": [
    {
     "data": {
      "text/plain": [
       "color\n",
       "G            36\n",
       "I            33\n",
       "H            30\n",
       "F            24\n",
       "D            13\n",
       "E            13\n",
       "e            12\n",
       "d             9\n",
       "colorless     6\n",
       "f             6\n",
       "j             6\n",
       "g             4\n",
       "h             4\n",
       "Colorless     2\n",
       "J             2\n",
       "Name: count, dtype: int64"
      ]
     },
     "execution_count": 10,
     "metadata": {},
     "output_type": "execute_result"
    }
   ],
   "source": [
    "#Unikalne wartości w kolumnie \"color\"\n",
    "messydata_df[\"color\"].value_counts()"
   ]
  },
  {
   "cell_type": "code",
   "execution_count": 11,
   "metadata": {},
   "outputs": [
    {
     "data": {
      "text/plain": [
       "color\n",
       "G            40\n",
       "H            34\n",
       "I            33\n",
       "F            30\n",
       "E            25\n",
       "D            22\n",
       "Colorless     8\n",
       "J             8\n",
       "Name: count, dtype: int64"
      ]
     },
     "execution_count": 11,
     "metadata": {},
     "output_type": "execute_result"
    }
   ],
   "source": [
    "#Ujednolicenie danych w kolumnie \"color\"\n",
    "messydata_df[\"color\"].replace(\"g\", \"G\", inplace=True)\n",
    "messydata_df[\"color\"].replace(\"h\", \"H\", inplace=True)\n",
    "messydata_df[\"color\"].replace(\"j\", \"J\", inplace=True)\n",
    "messydata_df[\"color\"].replace(\"e\", \"E\", inplace=True)\n",
    "messydata_df[\"color\"].replace(\"d\", \"D\", inplace=True)\n",
    "messydata_df[\"color\"].replace(\"f\", \"F\", inplace=True)\n",
    "messydata_df[\"color\"].replace(\"colorless\", \"Colorless\", inplace=True)\n",
    "messydata_df[\"color\"].value_counts()"
   ]
  },
  {
   "cell_type": "code",
   "execution_count": 12,
   "metadata": {},
   "outputs": [
    {
     "data": {
      "text/plain": [
       "cut\n",
       "Premium      34\n",
       "Good         30\n",
       "fair         24\n",
       "Ideal        23\n",
       "good         21\n",
       "very good    19\n",
       "Fair         12\n",
       "Very good    10\n",
       "Very Good     9\n",
       "ideal         9\n",
       "premium       7\n",
       "very Good     2\n",
       "Name: count, dtype: int64"
      ]
     },
     "execution_count": 12,
     "metadata": {},
     "output_type": "execute_result"
    }
   ],
   "source": [
    "#Unikalne wartości w kolumnie \"cut\"\n",
    "messydata_df[\"cut\"].value_counts()"
   ]
  },
  {
   "cell_type": "code",
   "execution_count": 13,
   "metadata": {},
   "outputs": [
    {
     "data": {
      "text/plain": [
       "cut\n",
       "Good         51\n",
       "Premium      41\n",
       "Very Good    40\n",
       "Fair         36\n",
       "Ideal        32\n",
       "Name: count, dtype: int64"
      ]
     },
     "execution_count": 13,
     "metadata": {},
     "output_type": "execute_result"
    }
   ],
   "source": [
    "#Ujednolicenie danych w kolumnie \"cut\"\n",
    "messydata_df[\"cut\"].replace(\"fair\", \"Fair\", inplace=True)\n",
    "messydata_df[\"cut\"].replace([\"very Good\",\"Very good\", \"very good\"], \"Very Good\", inplace=True)\n",
    "messydata_df[\"cut\"].replace(\"good\", \"Good\", inplace=True)\n",
    "messydata_df[\"cut\"].replace(\"premium\", \"Premium\", inplace=True)\n",
    "messydata_df[\"cut\"].replace(\"ideal\", \"Ideal\", inplace=True)\n",
    "messydata_df[\"cut\"].value_counts()"
   ]
  },
  {
   "cell_type": "markdown",
   "metadata": {},
   "source": [
    "***1.a Duplikaty***"
   ]
  },
  {
   "cell_type": "code",
   "execution_count": 14,
   "metadata": {},
   "outputs": [
    {
     "name": "stdout",
     "output_type": "stream",
     "text": [
      "ilość zduplikowanych rekordów: 0\n"
     ]
    }
   ],
   "source": [
    "##sprawdzamy ilość zduplikowanych rekordów\n",
    "print('ilość zduplikowanych rekordów: ' + str(messydata_df.duplicated().sum()))"
   ]
  },
  {
   "cell_type": "code",
   "execution_count": 15,
   "metadata": {},
   "outputs": [],
   "source": [
    "#robimy subset duplikatów dla danych zawierających wymiary i kolor, ponieważ jest to mało prawdopodobne, że taka kombinacja się powtórzy\n",
    "dupl_subset = [\"color\",\"x_dimension\", \"y_dimension\", \"z_dimension\"]"
   ]
  },
  {
   "cell_type": "code",
   "execution_count": 16,
   "metadata": {},
   "outputs": [
    {
     "data": {
      "text/html": [
       "<div>\n",
       "<style scoped>\n",
       "    .dataframe tbody tr th:only-of-type {\n",
       "        vertical-align: middle;\n",
       "    }\n",
       "\n",
       "    .dataframe tbody tr th {\n",
       "        vertical-align: top;\n",
       "    }\n",
       "\n",
       "    .dataframe thead th {\n",
       "        text-align: right;\n",
       "    }\n",
       "</style>\n",
       "<table border=\"1\" class=\"dataframe\">\n",
       "  <thead>\n",
       "    <tr style=\"text-align: right;\">\n",
       "      <th></th>\n",
       "      <th>carat</th>\n",
       "      <th>clarity</th>\n",
       "      <th>color</th>\n",
       "      <th>cut</th>\n",
       "      <th>x_dimension</th>\n",
       "      <th>y_dimension</th>\n",
       "      <th>z_dimension</th>\n",
       "      <th>depth</th>\n",
       "      <th>table</th>\n",
       "      <th>price</th>\n",
       "    </tr>\n",
       "  </thead>\n",
       "  <tbody>\n",
       "    <tr>\n",
       "      <th>14</th>\n",
       "      <td>0.55</td>\n",
       "      <td>SI2</td>\n",
       "      <td>H</td>\n",
       "      <td>Good</td>\n",
       "      <td>5.3</td>\n",
       "      <td>5.29</td>\n",
       "      <td>NaN</td>\n",
       "      <td>62.0</td>\n",
       "      <td>NaN</td>\n",
       "      <td>1800.0</td>\n",
       "    </tr>\n",
       "    <tr>\n",
       "      <th>41</th>\n",
       "      <td>NaN</td>\n",
       "      <td>IF</td>\n",
       "      <td>F</td>\n",
       "      <td>Premium</td>\n",
       "      <td>6.2</td>\n",
       "      <td>NaN</td>\n",
       "      <td>3.84</td>\n",
       "      <td>61.9</td>\n",
       "      <td>58.0</td>\n",
       "      <td>5900.0</td>\n",
       "    </tr>\n",
       "    <tr>\n",
       "      <th>102</th>\n",
       "      <td>0.55</td>\n",
       "      <td>VVS1</td>\n",
       "      <td>H</td>\n",
       "      <td>Good</td>\n",
       "      <td>5.3</td>\n",
       "      <td>5.29</td>\n",
       "      <td>NaN</td>\n",
       "      <td>62.1</td>\n",
       "      <td>58.0</td>\n",
       "      <td>3100.0</td>\n",
       "    </tr>\n",
       "    <tr>\n",
       "      <th>129</th>\n",
       "      <td>NaN</td>\n",
       "      <td>VVS1</td>\n",
       "      <td>E</td>\n",
       "      <td>Premium</td>\n",
       "      <td>6.3</td>\n",
       "      <td>NaN</td>\n",
       "      <td>3.90</td>\n",
       "      <td>62.3</td>\n",
       "      <td>59.0</td>\n",
       "      <td>7800.0</td>\n",
       "    </tr>\n",
       "    <tr>\n",
       "      <th>141</th>\n",
       "      <td>1.15</td>\n",
       "      <td>SI1</td>\n",
       "      <td>F</td>\n",
       "      <td>Very Good</td>\n",
       "      <td>6.9</td>\n",
       "      <td>6.88</td>\n",
       "      <td>4.27</td>\n",
       "      <td>NaN</td>\n",
       "      <td>56.0</td>\n",
       "      <td>9600.0</td>\n",
       "    </tr>\n",
       "    <tr>\n",
       "      <th>154</th>\n",
       "      <td>1.20</td>\n",
       "      <td>SI2</td>\n",
       "      <td>F</td>\n",
       "      <td>Premium</td>\n",
       "      <td>6.9</td>\n",
       "      <td>6.88</td>\n",
       "      <td>4.27</td>\n",
       "      <td>62.5</td>\n",
       "      <td>56.0</td>\n",
       "      <td>10100.0</td>\n",
       "    </tr>\n",
       "    <tr>\n",
       "      <th>169</th>\n",
       "      <td>0.85</td>\n",
       "      <td>VVS2</td>\n",
       "      <td>F</td>\n",
       "      <td>Premium</td>\n",
       "      <td>6.2</td>\n",
       "      <td>NaN</td>\n",
       "      <td>3.84</td>\n",
       "      <td>NaN</td>\n",
       "      <td>59.0</td>\n",
       "      <td>6600.0</td>\n",
       "    </tr>\n",
       "    <tr>\n",
       "      <th>193</th>\n",
       "      <td>NaN</td>\n",
       "      <td>VVS2</td>\n",
       "      <td>E</td>\n",
       "      <td>Good</td>\n",
       "      <td>6.3</td>\n",
       "      <td>NaN</td>\n",
       "      <td>3.90</td>\n",
       "      <td>NaN</td>\n",
       "      <td>58.0</td>\n",
       "      <td>7700.0</td>\n",
       "    </tr>\n",
       "  </tbody>\n",
       "</table>\n",
       "</div>"
      ],
      "text/plain": [
       "     carat clarity color        cut  x_dimension  y_dimension  z_dimension  \\\n",
       "14    0.55     SI2     H       Good          5.3         5.29          NaN   \n",
       "41     NaN      IF     F    Premium          6.2          NaN         3.84   \n",
       "102   0.55    VVS1     H       Good          5.3         5.29          NaN   \n",
       "129    NaN    VVS1     E    Premium          6.3          NaN         3.90   \n",
       "141   1.15     SI1     F  Very Good          6.9         6.88         4.27   \n",
       "154   1.20     SI2     F    Premium          6.9         6.88         4.27   \n",
       "169   0.85    VVS2     F    Premium          6.2          NaN         3.84   \n",
       "193    NaN    VVS2     E       Good          6.3          NaN         3.90   \n",
       "\n",
       "     depth  table    price  \n",
       "14    62.0    NaN   1800.0  \n",
       "41    61.9   58.0   5900.0  \n",
       "102   62.1   58.0   3100.0  \n",
       "129   62.3   59.0   7800.0  \n",
       "141    NaN   56.0   9600.0  \n",
       "154   62.5   56.0  10100.0  \n",
       "169    NaN   59.0   6600.0  \n",
       "193    NaN   58.0   7700.0  "
      ]
     },
     "execution_count": 16,
     "metadata": {},
     "output_type": "execute_result"
    }
   ],
   "source": [
    "##sprawdzamy duplikaty \n",
    "duplicates = messydata_df.duplicated(dupl_subset, keep=False)\n",
    "messydata_df[duplicates]"
   ]
  },
  {
   "cell_type": "code",
   "execution_count": 17,
   "metadata": {},
   "outputs": [
    {
     "name": "stderr",
     "output_type": "stream",
     "text": [
      "C:\\Users\\Michal\\AppData\\Local\\Temp\\ipykernel_3136\\2356646140.py:3: UserWarning: Boolean Series key will be reindexed to match DataFrame index.\n",
      "  messydata_df[duplicates].tail()\n"
     ]
    },
    {
     "data": {
      "text/html": [
       "<div>\n",
       "<style scoped>\n",
       "    .dataframe tbody tr th:only-of-type {\n",
       "        vertical-align: middle;\n",
       "    }\n",
       "\n",
       "    .dataframe tbody tr th {\n",
       "        vertical-align: top;\n",
       "    }\n",
       "\n",
       "    .dataframe thead th {\n",
       "        text-align: right;\n",
       "    }\n",
       "</style>\n",
       "<table border=\"1\" class=\"dataframe\">\n",
       "  <thead>\n",
       "    <tr style=\"text-align: right;\">\n",
       "      <th></th>\n",
       "      <th>carat</th>\n",
       "      <th>clarity</th>\n",
       "      <th>color</th>\n",
       "      <th>cut</th>\n",
       "      <th>x_dimension</th>\n",
       "      <th>y_dimension</th>\n",
       "      <th>z_dimension</th>\n",
       "      <th>depth</th>\n",
       "      <th>table</th>\n",
       "      <th>price</th>\n",
       "    </tr>\n",
       "  </thead>\n",
       "  <tbody>\n",
       "    <tr>\n",
       "      <th>102</th>\n",
       "      <td>0.55</td>\n",
       "      <td>VVS1</td>\n",
       "      <td>H</td>\n",
       "      <td>Good</td>\n",
       "      <td>5.3</td>\n",
       "      <td>5.29</td>\n",
       "      <td>NaN</td>\n",
       "      <td>62.1</td>\n",
       "      <td>58.0</td>\n",
       "      <td>3100.0</td>\n",
       "    </tr>\n",
       "    <tr>\n",
       "      <th>154</th>\n",
       "      <td>1.20</td>\n",
       "      <td>SI2</td>\n",
       "      <td>F</td>\n",
       "      <td>Premium</td>\n",
       "      <td>6.9</td>\n",
       "      <td>6.88</td>\n",
       "      <td>4.27</td>\n",
       "      <td>62.5</td>\n",
       "      <td>56.0</td>\n",
       "      <td>10100.0</td>\n",
       "    </tr>\n",
       "    <tr>\n",
       "      <th>169</th>\n",
       "      <td>0.85</td>\n",
       "      <td>VVS2</td>\n",
       "      <td>F</td>\n",
       "      <td>Premium</td>\n",
       "      <td>6.2</td>\n",
       "      <td>NaN</td>\n",
       "      <td>3.84</td>\n",
       "      <td>NaN</td>\n",
       "      <td>59.0</td>\n",
       "      <td>6600.0</td>\n",
       "    </tr>\n",
       "    <tr>\n",
       "      <th>193</th>\n",
       "      <td>NaN</td>\n",
       "      <td>VVS2</td>\n",
       "      <td>E</td>\n",
       "      <td>Good</td>\n",
       "      <td>6.3</td>\n",
       "      <td>NaN</td>\n",
       "      <td>3.90</td>\n",
       "      <td>NaN</td>\n",
       "      <td>58.0</td>\n",
       "      <td>7700.0</td>\n",
       "    </tr>\n",
       "  </tbody>\n",
       "</table>\n",
       "</div>"
      ],
      "text/plain": [
       "     carat clarity color      cut  x_dimension  y_dimension  z_dimension  \\\n",
       "102   0.55    VVS1     H     Good          5.3         5.29          NaN   \n",
       "154   1.20     SI2     F  Premium          6.9         6.88         4.27   \n",
       "169   0.85    VVS2     F  Premium          6.2          NaN         3.84   \n",
       "193    NaN    VVS2     E     Good          6.3          NaN         3.90   \n",
       "\n",
       "     depth  table    price  \n",
       "102   62.1   58.0   3100.0  \n",
       "154   62.5   56.0  10100.0  \n",
       "169    NaN   59.0   6600.0  \n",
       "193    NaN   58.0   7700.0  "
      ]
     },
     "execution_count": 17,
     "metadata": {},
     "output_type": "execute_result"
    }
   ],
   "source": [
    "##usuwamy duplikaty zostawiajac ten ostatnio wprowadzony do danych (keep='last')\n",
    "messydata_df.drop_duplicates(dupl_subset, keep='last', inplace=True)\n",
    "messydata_df[duplicates].tail()"
   ]
  },
  {
   "cell_type": "markdown",
   "metadata": {},
   "source": [
    "***1.b Eliminacja wartości odstających***"
   ]
  },
  {
   "cell_type": "code",
   "execution_count": 18,
   "metadata": {},
   "outputs": [],
   "source": [
    "#Wartości odstające wybrałem ręcznie. Usuwamy 3 wartości dla ceny znacznie większe od pozostałych, które psuły wygląd wykresu zawierającego cenę\n",
    "messydata_df = messydata_df[messydata_df[\"price\"] <= 12500]"
   ]
  },
  {
   "cell_type": "markdown",
   "metadata": {},
   "source": [
    "***1.f Zamiana wartości NaN na medianę***"
   ]
  },
  {
   "cell_type": "code",
   "execution_count": 19,
   "metadata": {},
   "outputs": [],
   "source": [
    "for column in messydata_df.columns:\n",
    "    if messydata_df[column].dtype != 'category':\n",
    "        messydata_df[column] = messydata_df[column].fillna(messydata_df[column].median())"
   ]
  },
  {
   "cell_type": "markdown",
   "metadata": {},
   "source": [
    "***Eksportowanie oczyszczonych danych***"
   ]
  },
  {
   "cell_type": "code",
   "execution_count": 20,
   "metadata": {},
   "outputs": [],
   "source": [
    "messydata_df.to_csv('clean_data.csv', sep=',')"
   ]
  }
 ],
 "metadata": {
  "kernelspec": {
   "display_name": "Python 3",
   "language": "python",
   "name": "python3"
  },
  "language_info": {
   "codemirror_mode": {
    "name": "ipython",
    "version": 3
   },
   "file_extension": ".py",
   "mimetype": "text/x-python",
   "name": "python",
   "nbconvert_exporter": "python",
   "pygments_lexer": "ipython3",
   "version": "3.10.2"
  }
 },
 "nbformat": 4,
 "nbformat_minor": 2
}
